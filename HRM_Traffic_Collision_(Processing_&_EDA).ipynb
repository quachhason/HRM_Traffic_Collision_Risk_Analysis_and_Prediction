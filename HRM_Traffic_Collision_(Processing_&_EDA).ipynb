{
  "nbformat": 4,
  "nbformat_minor": 0,
  "metadata": {
    "colab": {
      "provenance": [],
      "mount_file_id": "14dtVV9X1sHrgtFtJoPCboTlo4YbXc-V1",
      "authorship_tag": "ABX9TyN6xX7sE5Q8Qqroa3xChlgK",
      "include_colab_link": true
    },
    "kernelspec": {
      "name": "python3",
      "display_name": "Python 3"
    },
    "language_info": {
      "name": "python"
    }
  },
  "cells": [
    {
      "cell_type": "markdown",
      "metadata": {
        "id": "view-in-github",
        "colab_type": "text"
      },
      "source": [
        "<a href=\"https://colab.research.google.com/github/quachhason/HRM_Traffic_Collision_Risk_Analysis_and_Prediction/blob/main/HRM_Traffic_Collision_(Processing_%26_EDA).ipynb\" target=\"_parent\"><img src=\"https://colab.research.google.com/assets/colab-badge.svg\" alt=\"Open In Colab\"/></a>"
      ]
    },
    {
      "cell_type": "code",
      "execution_count": null,
      "metadata": {
        "id": "Xnam-fFMwzZp"
      },
      "outputs": [],
      "source": [
        "# Import necessary libraries\n",
        "import pandas as pd\n",
        "import numpy as np\n",
        "import matplotlib.pyplot as plt\n",
        "import seaborn as sns\n",
        "\n",
        "# Load the dataset\n",
        "df = pd.read_csv('/content/drive/MyDrive/HRM/Traffic_Collisions_5599987132563638107.csv')\n",
        "\n",
        "# Display the first few rows of the dataset\n",
        "print(df.head())\n"
      ]
    },
    {
      "cell_type": "markdown",
      "source": [
        "# Step 1: Data Preprocessing"
      ],
      "metadata": {
        "id": "5q-Aij-KF4f3"
      }
    },
    {
      "cell_type": "code",
      "source": [
        "# Convert 'Accident Date and Time' to datetime format\n",
        "df['Accident Date and Time'] = pd.to_datetime(df['Accident Date and Time'])\n",
        "\n",
        "# Drop rows with missing values in \"Accident Date and Time\"\n",
        "df.dropna(subset=['Accident Date and Time'], inplace=True)\n",
        "\n",
        "# Extract year, month, day, and hour (as integers) for further analysis\n",
        "df['Year'] = df['Accident Date and Time'].dt.year.astype(int)\n",
        "df['Month'] = df['Accident Date and Time'].dt.month.astype(int)\n",
        "df['Day'] = df['Accident Date and Time'].dt.day.astype(int)\n",
        "df['Hour'] = df['Accident Date and Time'].dt.hour.astype(int)"
      ],
      "metadata": {
        "id": "hPr66sD-yHgE"
      },
      "execution_count": null,
      "outputs": []
    },
    {
      "cell_type": "code",
      "source": [
        "# Convert Non-Fatal and Fatal Injuries to binary Y/N\n",
        "df['Non Fatal Injury'] = df['Non Fatal Injury'].fillna('N')\n",
        "df['Fatal Injury'] = df['Fatal Injury'].fillna('N')\n",
        "df['Non Fatal Injury'] = df['Non Fatal Injury'].replace({'Yes': 'Y', ' ': 'N'})\n",
        "df['Fatal Injury'] = df['Fatal Injury'].replace({'Yes': 'Y', ' ': 'N'})"
      ],
      "metadata": {
        "id": "4cKlaMDe2VVm"
      },
      "execution_count": null,
      "outputs": []
    },
    {
      "cell_type": "code",
      "source": [
        "# Create a new column for collision severity\n",
        "df['Collision Severity'] = np.where(df['Fatal Injury'] == 'Y', 'Fatal',\n",
        "                             np.where(df['Non Fatal Injury'] == 'Y', 'Non-Fatal', 'No Injury'))"
      ],
      "metadata": {
        "id": "ruY8ZDSN3MxG"
      },
      "execution_count": null,
      "outputs": []
    },
    {
      "cell_type": "code",
      "source": [
        "# Create a new column for Time of Day\n",
        "def get_time_of_day(hour):\n",
        "    if 5 <= hour < 12:\n",
        "        return 'Morning'\n",
        "    elif 12 <= hour < 17:\n",
        "        return 'Afternoon'\n",
        "    elif 17 <= hour < 22:\n",
        "        return 'Evening'\n",
        "    else:\n",
        "        return 'Night'\n",
        "\n",
        "df['TimeOfDay'] = df['Hour'].apply(get_time_of_day)"
      ],
      "metadata": {
        "id": "44nulHXz2Y4m"
      },
      "execution_count": null,
      "outputs": []
    },
    {
      "cell_type": "code",
      "source": [
        "# Drop unnecessary columns\n",
        "df.drop(columns=['x', 'y', 'Case File Number'], inplace=True)"
      ],
      "metadata": {
        "id": "X8msH9jR2a23"
      },
      "execution_count": null,
      "outputs": []
    },
    {
      "cell_type": "markdown",
      "source": [
        "# Step 2: Exploratory Data Analysis (EDA)"
      ],
      "metadata": {
        "id": "UOpcereSEbmO"
      }
    },
    {
      "cell_type": "code",
      "source": [
        "# Descriptive Statistics\n",
        "print(\"Descriptive Statistics for Key Variables:\")\n",
        "print(df[['Non Fatal Injury', 'Fatal Injury']].describe())"
      ],
      "metadata": {
        "colab": {
          "base_uri": "https://localhost:8080/"
        },
        "id": "ix579hShJoBy",
        "outputId": "fb10a547-6477-4957-a61e-81d3c1f32a71"
      },
      "execution_count": null,
      "outputs": [
        {
          "output_type": "stream",
          "name": "stdout",
          "text": [
            "Descriptive Statistics for Key Variables:\n",
            "       Non Fatal Injury Fatal Injury\n",
            "count             36822        36822\n",
            "unique                2            2\n",
            "top                   N            N\n",
            "freq              31763        36742\n"
          ]
        }
      ]
    },
    {
      "cell_type": "code",
      "source": [
        "# Count and summarize the severity of collisions\n",
        "severity_counts = df['Collision Severity'].value_counts()\n",
        "print(\"\\nCollision Severity Distribution:\")\n",
        "print(severity_counts)"
      ],
      "metadata": {
        "colab": {
          "base_uri": "https://localhost:8080/"
        },
        "id": "ZDyAEOSFJzR6",
        "outputId": "d8d9495a-6579-4225-c142-ce9b37fc6bd9"
      },
      "execution_count": null,
      "outputs": [
        {
          "output_type": "stream",
          "name": "stdout",
          "text": [
            "\n",
            "Collision Severity Distribution:\n",
            "Collision Severity\n",
            "No Injury    31683\n",
            "Non-Fatal     5059\n",
            "Fatal           80\n",
            "Name: count, dtype: int64\n"
          ]
        }
      ]
    },
    {
      "cell_type": "markdown",
      "source": [
        "Trend Analysis"
      ],
      "metadata": {
        "id": "hi3jUS5aKCzU"
      }
    },
    {
      "cell_type": "code",
      "source": [
        "# Yearly collision trends\n",
        "yearly_trend = df['Year'].value_counts().sort_index()\n",
        "\n",
        "plt.figure(figsize=(10, 6))\n",
        "yearly_trend.plot(kind='line', marker='o', color='steelblue')\n",
        "plt.title('Yearly Collision Trends')\n",
        "plt.xlabel('Year')\n",
        "plt.ylabel('Number of Collisions')\n",
        "plt.grid()\n",
        "plt.show()"
      ],
      "metadata": {
        "id": "JkKDix1LKD7w",
        "outputId": "17c95e1d-1df3-4725-cb7b-ed776a6c30b8",
        "colab": {
          "base_uri": "https://localhost:8080/",
          "height": 211
        }
      },
      "execution_count": null,
      "outputs": [
        {
          "output_type": "error",
          "ename": "NameError",
          "evalue": "name 'df' is not defined",
          "traceback": [
            "\u001b[0;31m---------------------------------------------------------------------------\u001b[0m",
            "\u001b[0;31mNameError\u001b[0m                                 Traceback (most recent call last)",
            "\u001b[0;32m<ipython-input-1-8417a8dd0d1e>\u001b[0m in \u001b[0;36m<cell line: 2>\u001b[0;34m()\u001b[0m\n\u001b[1;32m      1\u001b[0m \u001b[0;31m# Yearly collision trends\u001b[0m\u001b[0;34m\u001b[0m\u001b[0;34m\u001b[0m\u001b[0m\n\u001b[0;32m----> 2\u001b[0;31m \u001b[0myearly_trend\u001b[0m \u001b[0;34m=\u001b[0m \u001b[0mdf\u001b[0m\u001b[0;34m[\u001b[0m\u001b[0;34m'Year'\u001b[0m\u001b[0;34m]\u001b[0m\u001b[0;34m.\u001b[0m\u001b[0mvalue_counts\u001b[0m\u001b[0;34m(\u001b[0m\u001b[0;34m)\u001b[0m\u001b[0;34m.\u001b[0m\u001b[0msort_index\u001b[0m\u001b[0;34m(\u001b[0m\u001b[0;34m)\u001b[0m\u001b[0;34m\u001b[0m\u001b[0;34m\u001b[0m\u001b[0m\n\u001b[0m\u001b[1;32m      3\u001b[0m \u001b[0;34m\u001b[0m\u001b[0m\n\u001b[1;32m      4\u001b[0m \u001b[0mplt\u001b[0m\u001b[0;34m.\u001b[0m\u001b[0mfigure\u001b[0m\u001b[0;34m(\u001b[0m\u001b[0mfigsize\u001b[0m\u001b[0;34m=\u001b[0m\u001b[0;34m(\u001b[0m\u001b[0;36m10\u001b[0m\u001b[0;34m,\u001b[0m \u001b[0;36m6\u001b[0m\u001b[0;34m)\u001b[0m\u001b[0;34m)\u001b[0m\u001b[0;34m\u001b[0m\u001b[0;34m\u001b[0m\u001b[0m\n\u001b[1;32m      5\u001b[0m \u001b[0myearly_trend\u001b[0m\u001b[0;34m.\u001b[0m\u001b[0mplot\u001b[0m\u001b[0;34m(\u001b[0m\u001b[0mkind\u001b[0m\u001b[0;34m=\u001b[0m\u001b[0;34m'line'\u001b[0m\u001b[0;34m,\u001b[0m \u001b[0mmarker\u001b[0m\u001b[0;34m=\u001b[0m\u001b[0;34m'o'\u001b[0m\u001b[0;34m,\u001b[0m \u001b[0mcolor\u001b[0m\u001b[0;34m=\u001b[0m\u001b[0;34m'steelblue'\u001b[0m\u001b[0;34m)\u001b[0m\u001b[0;34m\u001b[0m\u001b[0;34m\u001b[0m\u001b[0m\n",
            "\u001b[0;31mNameError\u001b[0m: name 'df' is not defined"
          ]
        }
      ]
    },
    {
      "cell_type": "code",
      "source": [
        "# Monthly collision trends\n",
        "monthly_trend = df['Month'].value_counts().sort_index()\n",
        "\n",
        "plt.figure(figsize=(10, 6))\n",
        "monthly_trend.plot(kind='bar', color='lightcoral')\n",
        "plt.title('Monthly Collision Trends')\n",
        "plt.xlabel('Month')\n",
        "plt.ylabel('Number of Collisions')\n",
        "plt.xticks(ticks=range(12), labels=['Jan', 'Feb', 'Mar', 'Apr', 'May', 'Jun',\n",
        "                                    'Jul', 'Aug', 'Sep', 'Oct', 'Nov', 'Dec'], rotation=45)\n",
        "plt.show()\n"
      ],
      "metadata": {
        "id": "U86U8SvKJ_S4"
      },
      "execution_count": null,
      "outputs": []
    },
    {
      "cell_type": "code",
      "source": [
        "# Hourly collision trends\n",
        "hourly_trend = df['Hour'].value_counts().sort_index()\n",
        "\n",
        "plt.figure(figsize=(10, 6))\n",
        "hourly_trend.plot(kind='line', marker='o', color='teal')\n",
        "plt.title('Hourly Collision Trends')\n",
        "plt.xlabel('Hour')\n",
        "plt.ylabel('Number of Collisions')\n",
        "plt.grid()\n",
        "plt.show()"
      ],
      "metadata": {
        "id": "SQ3EAqllKLvH"
      },
      "execution_count": null,
      "outputs": []
    },
    {
      "cell_type": "markdown",
      "source": [
        "Categorical Analysis"
      ],
      "metadata": {
        "id": "jUsthn8tKPpM"
      }
    },
    {
      "cell_type": "code",
      "source": [
        "# Collision Configuration\n",
        "collision_types = df['Collision Configuration'].value_counts()\n",
        "\n",
        "plt.figure(figsize=(12, 8))\n",
        "collision_types.head(10).plot(kind='barh', color='darkorange')\n",
        "plt.title('Top 10 Collision Configurations')\n",
        "plt.xlabel('Number of Collisions')\n",
        "plt.ylabel('Collision Configuration')\n",
        "plt.xticks(rotation=0)\n",
        "plt.show()"
      ],
      "metadata": {
        "id": "Xui9OPr3KOdl"
      },
      "execution_count": null,
      "outputs": []
    },
    {
      "cell_type": "code",
      "source": [
        "# Light Conditions\n",
        "light_conditions = df['Light Condition'].value_counts()\n",
        "\n",
        "plt.figure(figsize=(8, 6))\n",
        "light_conditions.plot(kind='pie', autopct='%1.1f%%', startangle=140, colors=['gold', 'lightblue', 'coral', 'lightgreen'])\n",
        "plt.title('Collision Distribution by Light Condition')\n",
        "plt.ylabel('')\n",
        "plt.show()"
      ],
      "metadata": {
        "id": "7NKlWOkEKVyO"
      },
      "execution_count": null,
      "outputs": []
    },
    {
      "cell_type": "code",
      "source": [
        "# Weather Conditions\n",
        "weather_conditions = df['Weather Condition'].value_counts().head(5)\n",
        "\n",
        "plt.figure(figsize=(10, 6))\n",
        "weather_conditions.plot(kind='bar', color='purple')\n",
        "plt.title('Top 5 Weather Conditions for Collisions')\n",
        "plt.xlabel('Weather Condition')\n",
        "plt.ylabel('Number of Collisions')\n",
        "plt.xticks(rotation=0)\n",
        "plt.show()"
      ],
      "metadata": {
        "id": "Rza7e8IiKXQW"
      },
      "execution_count": null,
      "outputs": []
    },
    {
      "cell_type": "code",
      "source": [
        "# Geospatial Analysis\n",
        "plt.figure(figsize=(12, 8))\n",
        "plt.scatter(df['Longitude WGS84'], df['Latitude WGS84'], alpha=0.3, s=10, c='red')\n",
        "plt.title('Geographical Distribution of Collisions')\n",
        "plt.xlabel('Longitude')\n",
        "plt.ylabel('Latitude')\n",
        "plt.show()"
      ],
      "metadata": {
        "id": "zslcS75-K7Ly"
      },
      "execution_count": null,
      "outputs": []
    },
    {
      "cell_type": "markdown",
      "source": [
        "# Step 3: Export Processed Data for Tableau"
      ],
      "metadata": {
        "id": "9u-LxVvCF-tQ"
      }
    },
    {
      "cell_type": "code",
      "source": [
        "# Save the processed data for use in Tableau\n",
        "df.to_csv('/content/drive/MyDrive/HRM/Processed_Traffic_Collision.csv', index=False)"
      ],
      "metadata": {
        "id": "6RZ2Lngf9Z1k"
      },
      "execution_count": null,
      "outputs": []
    },
    {
      "cell_type": "code",
      "source": [
        "# Summary output to confirm processing\n",
        "print(f\"Processed dataset saved successfully with {len(df)} rows and {len(df.columns)} columns.\")"
      ],
      "metadata": {
        "colab": {
          "base_uri": "https://localhost:8080/"
        },
        "id": "DQ-TW9NF9nBL",
        "outputId": "80a84301-b036-4225-dd5c-c824a5140067"
      },
      "execution_count": null,
      "outputs": [
        {
          "output_type": "stream",
          "name": "stdout",
          "text": [
            "Processed dataset saved successfully with 36822 rows and 34 columns.\n"
          ]
        }
      ]
    }
  ]
}